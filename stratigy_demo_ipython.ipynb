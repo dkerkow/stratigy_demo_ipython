{
 "cells": [
  {
   "cell_type": "markdown",
   "metadata": {},
   "source": [
    "# Visualizing stratigraphic data from Stratigy in Python\n",
    "\n",
    "This is a short tutorial on what you can do with data from Stratigy\n",
    "\n",
    "At first, we get us some Python libraries. simplejson is for parsing JSON formatted data, pandas is for dataframes, urllib2 talks HTTP and matplotlib does the plotting."
   ]
  },
  {
   "cell_type": "code",
   "execution_count": 1,
   "metadata": {
    "collapsed": false
   },
   "outputs": [
    {
     "name": "stdout",
     "output_type": "stream",
     "text": [
      "Populating the interactive namespace from numpy and matplotlib\n"
     ]
    }
   ],
   "source": [
    "import simplejson as json\n",
    "import pandas as pd\n",
    "import urllib2\n",
    "%pylab inline\n",
    "import matplotlib.pyplot as plt"
   ]
  },
  {
   "cell_type": "markdown",
   "metadata": {},
   "source": [
    "Now we define where to get the data from. We specify the side id and the API Endpoint. Use localhost with port number if you have Stratigy running locally in development mode or `http://stratigy.danielkerkow.de/data/` if you want to get data from the demo server."
   ]
  },
  {
   "cell_type": "code",
   "execution_count": 2,
   "metadata": {
    "collapsed": true
   },
   "outputs": [],
   "source": [
    "site_id = '44'\n",
    "api_endpoint = 'http://localhost:5000/data/'"
   ]
  },
  {
   "cell_type": "markdown",
   "metadata": {},
   "source": [
    "Now we construct the URL with the site id and API endpoint and get the data from the server. We also load the JSON response into a native python dictionary:"
   ]
  },
  {
   "cell_type": "code",
   "execution_count": 3,
   "metadata": {
    "collapsed": false
   },
   "outputs": [],
   "source": [
    "url = api_endpoint + site_id\n",
    "response_json = urllib2.urlopen(url)\n",
    "site_data = json.load(response_json)"
   ]
  },
  {
   "cell_type": "markdown",
   "metadata": {},
   "source": [
    "Let's have a look inside:"
   ]
  },
  {
   "cell_type": "code",
   "execution_count": 4,
   "metadata": {
    "collapsed": false
   },
   "outputs": [
    {
     "data": {
      "text/plain": [
       "{'geometry': {'coordinates': [13, 43], 'type': 'Point'},\n",
       " 'properties': {'description': 'Description Placeholder',\n",
       "  'marker-size': 'large',\n",
       "  'strat_units': {'78': {'depth': 1,\n",
       "    'loi': 0.8925787,\n",
       "    'lower_boundary': 1,\n",
       "    'upper_boundary': 1},\n",
       "   '79': {'depth': 2,\n",
       "    'loi': 0.10485864,\n",
       "    'lower_boundary': 2,\n",
       "    'upper_boundary': 2},\n",
       "   '80': {'depth': 3,\n",
       "    'loi': 0.05788331,\n",
       "    'lower_boundary': 3,\n",
       "    'upper_boundary': 3},\n",
       "   '81': {'depth': 4,\n",
       "    'loi': 0.72363725,\n",
       "    'lower_boundary': 4,\n",
       "    'upper_boundary': 4},\n",
       "   '82': {'depth': 5,\n",
       "    'loi': 0.87343967,\n",
       "    'lower_boundary': 5,\n",
       "    'upper_boundary': 5},\n",
       "   '83': {'depth': 6,\n",
       "    'loi': 0.02176066,\n",
       "    'lower_boundary': 6,\n",
       "    'upper_boundary': 6},\n",
       "   '84': {'depth': 7,\n",
       "    'loi': 0.39986422,\n",
       "    'lower_boundary': 7,\n",
       "    'upper_boundary': 7},\n",
       "   '85': {'depth': 8,\n",
       "    'loi': 0.34846959,\n",
       "    'lower_boundary': 8,\n",
       "    'upper_boundary': 8},\n",
       "   '86': {'depth': 9,\n",
       "    'loi': 0.90826686,\n",
       "    'lower_boundary': 9,\n",
       "    'upper_boundary': 9},\n",
       "   '87': {'depth': 10,\n",
       "    'loi': 0.80576194,\n",
       "    'lower_boundary': 10,\n",
       "    'upper_boundary': 10}},\n",
       "  'title': 'Site Name'},\n",
       " 'type': 'Feature'}"
      ]
     },
     "execution_count": 4,
     "metadata": {},
     "output_type": "execute_result"
    }
   ],
   "source": [
    "site_data"
   ]
  },
  {
   "cell_type": "markdown",
   "metadata": {},
   "source": [
    "You can see that the response is a valid geojson. But for the moment, we are interested in the stratigraphic data nested inside the geojson. We can simply strip it out of the dictionary by selecting the `strat_units` key inside the `properties` dictionary:"
   ]
  },
  {
   "cell_type": "code",
   "execution_count": 5,
   "metadata": {
    "collapsed": false
   },
   "outputs": [
    {
     "data": {
      "text/plain": [
       "{'78': {'depth': 1,\n",
       "  'loi': 0.8925787,\n",
       "  'lower_boundary': 1,\n",
       "  'upper_boundary': 1},\n",
       " '79': {'depth': 2,\n",
       "  'loi': 0.10485864,\n",
       "  'lower_boundary': 2,\n",
       "  'upper_boundary': 2},\n",
       " '80': {'depth': 3,\n",
       "  'loi': 0.05788331,\n",
       "  'lower_boundary': 3,\n",
       "  'upper_boundary': 3},\n",
       " '81': {'depth': 4,\n",
       "  'loi': 0.72363725,\n",
       "  'lower_boundary': 4,\n",
       "  'upper_boundary': 4},\n",
       " '82': {'depth': 5,\n",
       "  'loi': 0.87343967,\n",
       "  'lower_boundary': 5,\n",
       "  'upper_boundary': 5},\n",
       " '83': {'depth': 6,\n",
       "  'loi': 0.02176066,\n",
       "  'lower_boundary': 6,\n",
       "  'upper_boundary': 6},\n",
       " '84': {'depth': 7,\n",
       "  'loi': 0.39986422,\n",
       "  'lower_boundary': 7,\n",
       "  'upper_boundary': 7},\n",
       " '85': {'depth': 8,\n",
       "  'loi': 0.34846959,\n",
       "  'lower_boundary': 8,\n",
       "  'upper_boundary': 8},\n",
       " '86': {'depth': 9,\n",
       "  'loi': 0.90826686,\n",
       "  'lower_boundary': 9,\n",
       "  'upper_boundary': 9},\n",
       " '87': {'depth': 10,\n",
       "  'loi': 0.80576194,\n",
       "  'lower_boundary': 10,\n",
       "  'upper_boundary': 10}}"
      ]
     },
     "execution_count": 5,
     "metadata": {},
     "output_type": "execute_result"
    }
   ],
   "source": [
    "strat_data = site_data['properties']['strat_units']\n",
    "strat_data"
   ]
  },
  {
   "cell_type": "markdown",
   "metadata": {},
   "source": [
    "As you can see, we now have a dictionary containing only records and its properties. We can get a list of the record ids by taking the dictionaries keys:"
   ]
  },
  {
   "cell_type": "code",
   "execution_count": 6,
   "metadata": {
    "collapsed": false
   },
   "outputs": [
    {
     "data": {
      "text/plain": [
       "['86', '84', '82', '83', '80', '81', '85', '87', '79', '78']"
      ]
     },
     "execution_count": 6,
     "metadata": {},
     "output_type": "execute_result"
    }
   ],
   "source": [
    "strat_data.keys()"
   ]
  },
  {
   "cell_type": "markdown",
   "metadata": {},
   "source": [
    "Now we want to get an overview of the stratigraphic data itself. For further analysis and plotting it is better to have that in a table. So we construct a DataFrame from it:"
   ]
  },
  {
   "cell_type": "code",
   "execution_count": 7,
   "metadata": {
    "collapsed": false
   },
   "outputs": [
    {
     "data": {
      "text/html": [
       "<div style=\"max-height:1000px;max-width:1500px;overflow:auto;\">\n",
       "<table border=\"1\" class=\"dataframe\">\n",
       "  <thead>\n",
       "    <tr style=\"text-align: right;\">\n",
       "      <th></th>\n",
       "      <th>depth</th>\n",
       "      <th>loi</th>\n",
       "      <th>lower_boundary</th>\n",
       "      <th>upper_boundary</th>\n",
       "    </tr>\n",
       "  </thead>\n",
       "  <tbody>\n",
       "    <tr>\n",
       "      <th>78</th>\n",
       "      <td>  1</td>\n",
       "      <td> 0.892579</td>\n",
       "      <td>  1</td>\n",
       "      <td>  1</td>\n",
       "    </tr>\n",
       "    <tr>\n",
       "      <th>79</th>\n",
       "      <td>  2</td>\n",
       "      <td> 0.104859</td>\n",
       "      <td>  2</td>\n",
       "      <td>  2</td>\n",
       "    </tr>\n",
       "    <tr>\n",
       "      <th>80</th>\n",
       "      <td>  3</td>\n",
       "      <td> 0.057883</td>\n",
       "      <td>  3</td>\n",
       "      <td>  3</td>\n",
       "    </tr>\n",
       "    <tr>\n",
       "      <th>81</th>\n",
       "      <td>  4</td>\n",
       "      <td> 0.723637</td>\n",
       "      <td>  4</td>\n",
       "      <td>  4</td>\n",
       "    </tr>\n",
       "    <tr>\n",
       "      <th>82</th>\n",
       "      <td>  5</td>\n",
       "      <td> 0.873440</td>\n",
       "      <td>  5</td>\n",
       "      <td>  5</td>\n",
       "    </tr>\n",
       "    <tr>\n",
       "      <th>83</th>\n",
       "      <td>  6</td>\n",
       "      <td> 0.021761</td>\n",
       "      <td>  6</td>\n",
       "      <td>  6</td>\n",
       "    </tr>\n",
       "    <tr>\n",
       "      <th>84</th>\n",
       "      <td>  7</td>\n",
       "      <td> 0.399864</td>\n",
       "      <td>  7</td>\n",
       "      <td>  7</td>\n",
       "    </tr>\n",
       "    <tr>\n",
       "      <th>85</th>\n",
       "      <td>  8</td>\n",
       "      <td> 0.348470</td>\n",
       "      <td>  8</td>\n",
       "      <td>  8</td>\n",
       "    </tr>\n",
       "    <tr>\n",
       "      <th>86</th>\n",
       "      <td>  9</td>\n",
       "      <td> 0.908267</td>\n",
       "      <td>  9</td>\n",
       "      <td>  9</td>\n",
       "    </tr>\n",
       "    <tr>\n",
       "      <th>87</th>\n",
       "      <td> 10</td>\n",
       "      <td> 0.805762</td>\n",
       "      <td> 10</td>\n",
       "      <td> 10</td>\n",
       "    </tr>\n",
       "  </tbody>\n",
       "</table>\n",
       "</div>"
      ],
      "text/plain": [
       "    depth       loi  lower_boundary  upper_boundary\n",
       "78      1  0.892579               1               1\n",
       "79      2  0.104859               2               2\n",
       "80      3  0.057883               3               3\n",
       "81      4  0.723637               4               4\n",
       "82      5  0.873440               5               5\n",
       "83      6  0.021761               6               6\n",
       "84      7  0.399864               7               7\n",
       "85      8  0.348470               8               8\n",
       "86      9  0.908267               9               9\n",
       "87     10  0.805762              10              10"
      ]
     },
     "execution_count": 7,
     "metadata": {},
     "output_type": "execute_result"
    }
   ],
   "source": [
    "df = pd.DataFrame.from_dict(strat_data, orient='index')\n",
    "df"
   ]
  },
  {
   "cell_type": "markdown",
   "metadata": {},
   "source": [
    "We could now go further with analysis of the table data, but I won't cover this here for now. Let's go ahead and plot the data."
   ]
  },
  {
   "cell_type": "markdown",
   "metadata": {},
   "source": [
    "## Plotting\n",
    "\n",
    "When working with stratigraphic data, it is very common to plot measured data against the depth on the inverted y-axis, so you look on the plot like you would look on an outcrop, measuring depth from the top to the bottom. With this kind of plot you can visualize measurement curves, categorial layer segments or parallel comparisons. \n",
    "\n",
    "For now, I just want to plot the loss on ignition measurement agains the depth. Therefore we create a figure with a size of (2,6) and select the data. Here we just select `df['loi']` for the x-axis and `df['depth']` for the y-axis. The y-axis is inverted with `plt.gca().invert_yaxis()` and the rest is just a little bit of cosmetics.\n",
    "\n",
    "Now we have a nice little plot for data retrieved from the Stratigy database!"
   ]
  },
  {
   "cell_type": "code",
   "execution_count": 20,
   "metadata": {
    "collapsed": false
   },
   "outputs": [
    {
     "data": {
      "image/png": "[encoded data removed]",
      "text/plain": [
       "<matplotlib.figure.Figure at 0x7fca99c346d0>"
      ]
     },
     "metadata": {},
     "output_type": "display_data"
    }
   ],
   "source": [
    "fig = plt.figure(figsize=(2, 6))\n",
    "plt.plot(df['loi'], df['depth'], 'ro-')\n",
    "plt.gca().invert_yaxis()\n",
    "plt.title('TOC (LOI)')\n",
    "plt.xlabel('%')\n",
    "plt.ylabel('Depth [m]')\n",
    "plt.grid(True)\n",
    "plt.show()"
   ]
  }
 ],
 "metadata": {
  "kernelspec": {
   "display_name": "Python 2",
   "language": "python",
   "name": "python2"
  },
  "language_info": {
   "codemirror_mode": {
    "name": "ipython",
    "version": 2
   },
   "file_extension": ".py",
   "mimetype": "text/x-python",
   "name": "python",
   "nbconvert_exporter": "python",
   "pygments_lexer": "ipython2",
   "version": "2.7.6"
  }
 },
 "nbformat": 4,
 "nbformat_minor": 0
}
